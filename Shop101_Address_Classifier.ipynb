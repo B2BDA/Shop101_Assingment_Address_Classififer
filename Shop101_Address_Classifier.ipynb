{
 "cells": [
  {
   "cell_type": "markdown",
   "metadata": {},
   "source": [
    "# Importing required libraries"
   ]
  },
  {
   "cell_type": "code",
   "execution_count": 1,
   "metadata": {},
   "outputs": [],
   "source": [
    "from pyforest import *\n",
    "import warnings\n",
    "from nltk.tokenize import word_tokenize\n",
    "import re\n",
    "from sklearn.feature_extraction.text import CountVectorizer, TfidfVectorizer\n",
    "from scipy.sparse import hstack, csr_matrix\n",
    "from sklearn.linear_model import LogisticRegression\n",
    "from sklearn.svm import LinearSVC\n",
    "from sklearn import metrics\n",
    "from scipy.stats import f_oneway"
   ]
  },
  {
   "cell_type": "code",
   "execution_count": 2,
   "metadata": {},
   "outputs": [],
   "source": [
    "warnings.filterwarnings('ignore')"
   ]
  },
  {
   "cell_type": "markdown",
   "metadata": {},
   "source": [
    "# Loading the train and the test data"
   ]
  },
  {
   "cell_type": "code",
   "execution_count": 3,
   "metadata": {},
   "outputs": [
    {
     "data": {
      "application/javascript": [
       "\n",
       "        if (window._pyforest_update_imports_cell) { window._pyforest_update_imports_cell('import pandas as pd'); }\n",
       "    "
      ],
      "text/plain": [
       "<IPython.core.display.Javascript object>"
      ]
     },
     "metadata": {},
     "output_type": "display_data"
    },
    {
     "data": {
      "application/javascript": [
       "\n",
       "        if (window._pyforest_update_imports_cell) { window._pyforest_update_imports_cell('import pandas as pd'); }\n",
       "    "
      ],
      "text/plain": [
       "<IPython.core.display.Javascript object>"
      ]
     },
     "metadata": {},
     "output_type": "display_data"
    }
   ],
   "source": [
    "train = pd.read_csv(r\"train.csv\", index_col=0)\n",
    "test = pd.read_csv(r\"test.csv\", index_col=0)"
   ]
  },
  {
   "cell_type": "markdown",
   "metadata": {},
   "source": [
    "# Examining the class frequencies"
   ]
  },
  {
   "cell_type": "code",
   "execution_count": 4,
   "metadata": {},
   "outputs": [
    {
     "data": {
      "text/plain": [
       "0    1248223\n",
       "1      69008\n",
       "Name: is_invalid, dtype: int64"
      ]
     },
     "execution_count": 4,
     "metadata": {},
     "output_type": "execute_result"
    }
   ],
   "source": [
    "train.is_invalid.value_counts()"
   ]
  },
  {
   "cell_type": "markdown",
   "metadata": {},
   "source": [
    "### Class imbalance is present"
   ]
  },
  {
   "cell_type": "markdown",
   "metadata": {},
   "source": [
    "# Examining the first and last 20 rows of the train data"
   ]
  },
  {
   "cell_type": "code",
   "execution_count": 5,
   "metadata": {},
   "outputs": [
    {
     "data": {
      "text/html": [
       "<div>\n",
       "<style scoped>\n",
       "    .dataframe tbody tr th:only-of-type {\n",
       "        vertical-align: middle;\n",
       "    }\n",
       "\n",
       "    .dataframe tbody tr th {\n",
       "        vertical-align: top;\n",
       "    }\n",
       "\n",
       "    .dataframe thead th {\n",
       "        text-align: right;\n",
       "    }\n",
       "</style>\n",
       "<table border=\"1\" class=\"dataframe\">\n",
       "  <thead>\n",
       "    <tr style=\"text-align: right;\">\n",
       "      <th></th>\n",
       "      <th>orderid</th>\n",
       "      <th>ordercustomeraddress</th>\n",
       "      <th>ordercustomercity</th>\n",
       "      <th>ordercustomerpincode</th>\n",
       "      <th>is_invalid</th>\n",
       "    </tr>\n",
       "  </thead>\n",
       "  <tbody>\n",
       "    <tr>\n",
       "      <th>1</th>\n",
       "      <td>6977371.0</td>\n",
       "      <td>Flor Mil Palasgaw</td>\n",
       "      <td>Chandrapur</td>\n",
       "      <td>441222.0</td>\n",
       "      <td>1</td>\n",
       "    </tr>\n",
       "    <tr>\n",
       "      <th>2</th>\n",
       "      <td>6977101.0</td>\n",
       "      <td>43, Gkw Layouts</td>\n",
       "      <td>Bangalore</td>\n",
       "      <td>560010.0</td>\n",
       "      <td>1</td>\n",
       "    </tr>\n",
       "    <tr>\n",
       "      <th>3</th>\n",
       "      <td>6977464.0</td>\n",
       "      <td>4_51_1</td>\n",
       "      <td>East Godavari</td>\n",
       "      <td>533239.0</td>\n",
       "      <td>1</td>\n",
       "    </tr>\n",
       "    <tr>\n",
       "      <th>4</th>\n",
       "      <td>6977628.0</td>\n",
       "      <td>None, Khatla</td>\n",
       "      <td>Aizawl</td>\n",
       "      <td>796001.0</td>\n",
       "      <td>1</td>\n",
       "    </tr>\n",
       "    <tr>\n",
       "      <th>5</th>\n",
       "      <td>6977784.0</td>\n",
       "      <td>None, Kulikawn</td>\n",
       "      <td>Aizawl</td>\n",
       "      <td>796001.0</td>\n",
       "      <td>1</td>\n",
       "    </tr>\n",
       "    <tr>\n",
       "      <th>6</th>\n",
       "      <td>7730650.0</td>\n",
       "      <td>Courier Point</td>\n",
       "      <td>Karim Nagar</td>\n",
       "      <td>505425.0</td>\n",
       "      <td>1</td>\n",
       "    </tr>\n",
       "    <tr>\n",
       "      <th>7</th>\n",
       "      <td>6977314.0</td>\n",
       "      <td>Manipal university Jaipur</td>\n",
       "      <td>Jaipur</td>\n",
       "      <td>303007.0</td>\n",
       "      <td>1</td>\n",
       "    </tr>\n",
       "    <tr>\n",
       "      <th>8</th>\n",
       "      <td>7758197.0</td>\n",
       "      <td>Ambary</td>\n",
       "      <td>Nalbari</td>\n",
       "      <td>781372.0</td>\n",
       "      <td>1</td>\n",
       "    </tr>\n",
       "    <tr>\n",
       "      <th>9</th>\n",
       "      <td>7758302.0</td>\n",
       "      <td>Ambary</td>\n",
       "      <td>Nalbari</td>\n",
       "      <td>781372.0</td>\n",
       "      <td>1</td>\n",
       "    </tr>\n",
       "    <tr>\n",
       "      <th>10</th>\n",
       "      <td>6977397.0</td>\n",
       "      <td>4_51_1</td>\n",
       "      <td>East Godavari</td>\n",
       "      <td>533239.0</td>\n",
       "      <td>1</td>\n",
       "    </tr>\n",
       "    <tr>\n",
       "      <th>11</th>\n",
       "      <td>6977494.0</td>\n",
       "      <td>No.3 2nd Floor</td>\n",
       "      <td>Bangalore</td>\n",
       "      <td>560005.0</td>\n",
       "      <td>1</td>\n",
       "    </tr>\n",
       "    <tr>\n",
       "      <th>12</th>\n",
       "      <td>6977751.0</td>\n",
       "      <td>No, No, Doloichuba</td>\n",
       "      <td>Marigaon</td>\n",
       "      <td>782104.0</td>\n",
       "      <td>1</td>\n",
       "    </tr>\n",
       "    <tr>\n",
       "      <th>13</th>\n",
       "      <td>6978138.0</td>\n",
       "      <td>71, Thekkumbhagom</td>\n",
       "      <td>Quilon</td>\n",
       "      <td>691584.0</td>\n",
       "      <td>1</td>\n",
       "    </tr>\n",
       "    <tr>\n",
       "      <th>14</th>\n",
       "      <td>6978210.0</td>\n",
       "      <td>3457, Sector 40D</td>\n",
       "      <td>Chandigarh</td>\n",
       "      <td>160036.0</td>\n",
       "      <td>1</td>\n",
       "    </tr>\n",
       "    <tr>\n",
       "      <th>15</th>\n",
       "      <td>6977602.0</td>\n",
       "      <td>Daulan chauraya</td>\n",
       "      <td>Baran</td>\n",
       "      <td>325221.0</td>\n",
       "      <td>1</td>\n",
       "    </tr>\n",
       "    <tr>\n",
       "      <th>16</th>\n",
       "      <td>6978007.0</td>\n",
       "      <td>None, Dinthar Veng</td>\n",
       "      <td>Aizawl</td>\n",
       "      <td>796001.0</td>\n",
       "      <td>1</td>\n",
       "    </tr>\n",
       "    <tr>\n",
       "      <th>17</th>\n",
       "      <td>6977648.0</td>\n",
       "      <td>5, 11ps, Raisehnagar</td>\n",
       "      <td>Ganganagar</td>\n",
       "      <td>335051.0</td>\n",
       "      <td>1</td>\n",
       "    </tr>\n",
       "    <tr>\n",
       "      <th>18</th>\n",
       "      <td>6977743.0</td>\n",
       "      <td>Damoh</td>\n",
       "      <td>Damoh</td>\n",
       "      <td>470661.0</td>\n",
       "      <td>1</td>\n",
       "    </tr>\n",
       "    <tr>\n",
       "      <th>19</th>\n",
       "      <td>6978133.0</td>\n",
       "      <td>Pathak Bigha, Bihar</td>\n",
       "      <td>Jehanabad</td>\n",
       "      <td>804407.0</td>\n",
       "      <td>1</td>\n",
       "    </tr>\n",
       "    <tr>\n",
       "      <th>20</th>\n",
       "      <td>7730707.0</td>\n",
       "      <td>Jayprakash Shah, Jayprakash Shah</td>\n",
       "      <td>Sidhi</td>\n",
       "      <td>486886.0</td>\n",
       "      <td>1</td>\n",
       "    </tr>\n",
       "  </tbody>\n",
       "</table>\n",
       "</div>"
      ],
      "text/plain": [
       "      orderid              ordercustomeraddress ordercustomercity  \\\n",
       "1   6977371.0                 Flor Mil Palasgaw        Chandrapur   \n",
       "2   6977101.0                   43, Gkw Layouts         Bangalore   \n",
       "3   6977464.0                            4_51_1     East Godavari   \n",
       "4   6977628.0                      None, Khatla            Aizawl   \n",
       "5   6977784.0                    None, Kulikawn            Aizawl   \n",
       "6   7730650.0                     Courier Point       Karim Nagar   \n",
       "7   6977314.0         Manipal university Jaipur            Jaipur   \n",
       "8   7758197.0                            Ambary           Nalbari   \n",
       "9   7758302.0                            Ambary           Nalbari   \n",
       "10  6977397.0                            4_51_1     East Godavari   \n",
       "11  6977494.0                    No.3 2nd Floor         Bangalore   \n",
       "12  6977751.0                No, No, Doloichuba          Marigaon   \n",
       "13  6978138.0                 71, Thekkumbhagom            Quilon   \n",
       "14  6978210.0                  3457, Sector 40D        Chandigarh   \n",
       "15  6977602.0                   Daulan chauraya             Baran   \n",
       "16  6978007.0                None, Dinthar Veng            Aizawl   \n",
       "17  6977648.0              5, 11ps, Raisehnagar        Ganganagar   \n",
       "18  6977743.0                             Damoh             Damoh   \n",
       "19  6978133.0               Pathak Bigha, Bihar         Jehanabad   \n",
       "20  7730707.0  Jayprakash Shah, Jayprakash Shah             Sidhi   \n",
       "\n",
       "    ordercustomerpincode  is_invalid  \n",
       "1               441222.0           1  \n",
       "2               560010.0           1  \n",
       "3               533239.0           1  \n",
       "4               796001.0           1  \n",
       "5               796001.0           1  \n",
       "6               505425.0           1  \n",
       "7               303007.0           1  \n",
       "8               781372.0           1  \n",
       "9               781372.0           1  \n",
       "10              533239.0           1  \n",
       "11              560005.0           1  \n",
       "12              782104.0           1  \n",
       "13              691584.0           1  \n",
       "14              160036.0           1  \n",
       "15              325221.0           1  \n",
       "16              796001.0           1  \n",
       "17              335051.0           1  \n",
       "18              470661.0           1  \n",
       "19              804407.0           1  \n",
       "20              486886.0           1  "
      ]
     },
     "execution_count": 5,
     "metadata": {},
     "output_type": "execute_result"
    }
   ],
   "source": [
    "train.head(20)"
   ]
  },
  {
   "cell_type": "code",
   "execution_count": 6,
   "metadata": {},
   "outputs": [
    {
     "data": {
      "text/html": [
       "<div>\n",
       "<style scoped>\n",
       "    .dataframe tbody tr th:only-of-type {\n",
       "        vertical-align: middle;\n",
       "    }\n",
       "\n",
       "    .dataframe tbody tr th {\n",
       "        vertical-align: top;\n",
       "    }\n",
       "\n",
       "    .dataframe thead th {\n",
       "        text-align: right;\n",
       "    }\n",
       "</style>\n",
       "<table border=\"1\" class=\"dataframe\">\n",
       "  <thead>\n",
       "    <tr style=\"text-align: right;\">\n",
       "      <th></th>\n",
       "      <th>orderid</th>\n",
       "      <th>ordercustomeraddress</th>\n",
       "      <th>ordercustomercity</th>\n",
       "      <th>ordercustomerpincode</th>\n",
       "      <th>is_invalid</th>\n",
       "    </tr>\n",
       "  </thead>\n",
       "  <tbody>\n",
       "    <tr>\n",
       "      <th>1317212</th>\n",
       "      <td>8380398.0</td>\n",
       "      <td>Ward No 12, At Katangi,, At Katangi</td>\n",
       "      <td>Balaghat</td>\n",
       "      <td>481445.0</td>\n",
       "      <td>0</td>\n",
       "    </tr>\n",
       "    <tr>\n",
       "      <th>1317213</th>\n",
       "      <td>8386953.0</td>\n",
       "      <td>Mandir Ke Pass Sirsala Ward No. 3, Village-Sir...</td>\n",
       "      <td>Dhar</td>\n",
       "      <td>454446.0</td>\n",
       "      <td>0</td>\n",
       "    </tr>\n",
       "    <tr>\n",
       "      <th>1317214</th>\n",
       "      <td>8380506.0</td>\n",
       "      <td>MIG1st 121 NIRMALA SADAN, New Housing Board Co...</td>\n",
       "      <td>Umaria</td>\n",
       "      <td>484001.0</td>\n",
       "      <td>0</td>\n",
       "    </tr>\n",
       "    <tr>\n",
       "      <th>1317215</th>\n",
       "      <td>8409232.0</td>\n",
       "      <td>naga mohalla,jumerati colony hoshangabad m.p, ...</td>\n",
       "      <td>Hoshangabad</td>\n",
       "      <td>461001.0</td>\n",
       "      <td>0</td>\n",
       "    </tr>\n",
       "    <tr>\n",
       "      <th>1317216</th>\n",
       "      <td>8390016.0</td>\n",
       "      <td>146, Balaghat Shadi Hall K Pichhe, Mp</td>\n",
       "      <td>Balaghat</td>\n",
       "      <td>481001.0</td>\n",
       "      <td>0</td>\n",
       "    </tr>\n",
       "    <tr>\n",
       "      <th>1317217</th>\n",
       "      <td>8421662.0</td>\n",
       "      <td>Word No 26 Jumerati Kali mandir k piche shivna...</td>\n",
       "      <td>Hoshangabad</td>\n",
       "      <td>461001.0</td>\n",
       "      <td>0</td>\n",
       "    </tr>\n",
       "    <tr>\n",
       "      <th>1317218</th>\n",
       "      <td>8394161.0</td>\n",
       "      <td>271/2a Saket Nagar Aims Ke Samne Urmila Tower,...</td>\n",
       "      <td>Bhopal</td>\n",
       "      <td>462024.0</td>\n",
       "      <td>0</td>\n",
       "    </tr>\n",
       "    <tr>\n",
       "      <th>1317219</th>\n",
       "      <td>8408449.0</td>\n",
       "      <td>Front Of Dr. Shrivastav, Shanti Niketan Road,B...</td>\n",
       "      <td>Ujjain</td>\n",
       "      <td>456771.0</td>\n",
       "      <td>0</td>\n",
       "    </tr>\n",
       "    <tr>\n",
       "      <th>1317220</th>\n",
       "      <td>8378178.0</td>\n",
       "      <td>DM 109 Ayodhya Extension Bhopal, Ayodhya Exten...</td>\n",
       "      <td>Bhopal</td>\n",
       "      <td>462041.0</td>\n",
       "      <td>0</td>\n",
       "    </tr>\n",
       "    <tr>\n",
       "      <th>1317221</th>\n",
       "      <td>8386008.0</td>\n",
       "      <td>Kanya Sala Marge Mahidpur Road, Kanya Sala Marge</td>\n",
       "      <td>Ujjain</td>\n",
       "      <td>456440.0</td>\n",
       "      <td>0</td>\n",
       "    </tr>\n",
       "    <tr>\n",
       "      <th>1317222</th>\n",
       "      <td>8386819.0</td>\n",
       "      <td>House No 435, Bairagarh, Bairagarh</td>\n",
       "      <td>Bhopal</td>\n",
       "      <td>462001.0</td>\n",
       "      <td>0</td>\n",
       "    </tr>\n",
       "    <tr>\n",
       "      <th>1317223</th>\n",
       "      <td>8394104.0</td>\n",
       "      <td>House No 45, Azad Ward mandla, Near CN Office</td>\n",
       "      <td>Mandla</td>\n",
       "      <td>481661.0</td>\n",
       "      <td>0</td>\n",
       "    </tr>\n",
       "    <tr>\n",
       "      <th>1317224</th>\n",
       "      <td>8380861.0</td>\n",
       "      <td>C.L.pathak Ward, Infront Of Airtel Tower, C L....</td>\n",
       "      <td>Katni</td>\n",
       "      <td>483501.0</td>\n",
       "      <td>0</td>\n",
       "    </tr>\n",
       "    <tr>\n",
       "      <th>1317225</th>\n",
       "      <td>8387048.0</td>\n",
       "      <td>2, Ganesh Pura  Street, Digambar Jain Mandir K...</td>\n",
       "      <td>Neemuch</td>\n",
       "      <td>458110.0</td>\n",
       "      <td>0</td>\n",
       "    </tr>\n",
       "    <tr>\n",
       "      <th>1317226</th>\n",
       "      <td>8382377.0</td>\n",
       "      <td>Mppolice Housing Infrastructure development Co...</td>\n",
       "      <td>Bhopal</td>\n",
       "      <td>462003.0</td>\n",
       "      <td>0</td>\n",
       "    </tr>\n",
       "    <tr>\n",
       "      <th>1317227</th>\n",
       "      <td>8388121.0</td>\n",
       "      <td>D-09 , Nirmal City,godhar, Nirmal City</td>\n",
       "      <td>Rewa</td>\n",
       "      <td>486001.0</td>\n",
       "      <td>0</td>\n",
       "    </tr>\n",
       "    <tr>\n",
       "      <th>1317228</th>\n",
       "      <td>8385982.0</td>\n",
       "      <td>Kapil Agarwal Basia Mohalla Nageshwar Mandir K...</td>\n",
       "      <td>Sagar</td>\n",
       "      <td>470001.0</td>\n",
       "      <td>0</td>\n",
       "    </tr>\n",
       "    <tr>\n",
       "      <th>1317229</th>\n",
       "      <td>8385671.0</td>\n",
       "      <td>Kapil Agarwal Basia Mohalla Nageshwar Mandir K...</td>\n",
       "      <td>Sagar</td>\n",
       "      <td>470001.0</td>\n",
       "      <td>0</td>\n",
       "    </tr>\n",
       "    <tr>\n",
       "      <th>1317230</th>\n",
       "      <td>8385952.0</td>\n",
       "      <td>Kapil Agarwal Basia Mohalla Nageshwar Mandir K...</td>\n",
       "      <td>Sagar</td>\n",
       "      <td>470001.0</td>\n",
       "      <td>0</td>\n",
       "    </tr>\n",
       "    <tr>\n",
       "      <th>1317231</th>\n",
       "      <td>8380987.0</td>\n",
       "      <td>Sindhi coloney Gali No 1 Front Of Muthot Finan...</td>\n",
       "      <td>Hoshangabad</td>\n",
       "      <td>461111.0</td>\n",
       "      <td>0</td>\n",
       "    </tr>\n",
       "  </tbody>\n",
       "</table>\n",
       "</div>"
      ],
      "text/plain": [
       "           orderid                               ordercustomeraddress  \\\n",
       "1317212  8380398.0                Ward No 12, At Katangi,, At Katangi   \n",
       "1317213  8386953.0  Mandir Ke Pass Sirsala Ward No. 3, Village-Sir...   \n",
       "1317214  8380506.0  MIG1st 121 NIRMALA SADAN, New Housing Board Co...   \n",
       "1317215  8409232.0  naga mohalla,jumerati colony hoshangabad m.p, ...   \n",
       "1317216  8390016.0              146, Balaghat Shadi Hall K Pichhe, Mp   \n",
       "1317217  8421662.0  Word No 26 Jumerati Kali mandir k piche shivna...   \n",
       "1317218  8394161.0  271/2a Saket Nagar Aims Ke Samne Urmila Tower,...   \n",
       "1317219  8408449.0  Front Of Dr. Shrivastav, Shanti Niketan Road,B...   \n",
       "1317220  8378178.0  DM 109 Ayodhya Extension Bhopal, Ayodhya Exten...   \n",
       "1317221  8386008.0   Kanya Sala Marge Mahidpur Road, Kanya Sala Marge   \n",
       "1317222  8386819.0                 House No 435, Bairagarh, Bairagarh   \n",
       "1317223  8394104.0      House No 45, Azad Ward mandla, Near CN Office   \n",
       "1317224  8380861.0  C.L.pathak Ward, Infront Of Airtel Tower, C L....   \n",
       "1317225  8387048.0  2, Ganesh Pura  Street, Digambar Jain Mandir K...   \n",
       "1317226  8382377.0  Mppolice Housing Infrastructure development Co...   \n",
       "1317227  8388121.0             D-09 , Nirmal City,godhar, Nirmal City   \n",
       "1317228  8385982.0  Kapil Agarwal Basia Mohalla Nageshwar Mandir K...   \n",
       "1317229  8385671.0  Kapil Agarwal Basia Mohalla Nageshwar Mandir K...   \n",
       "1317230  8385952.0  Kapil Agarwal Basia Mohalla Nageshwar Mandir K...   \n",
       "1317231  8380987.0  Sindhi coloney Gali No 1 Front Of Muthot Finan...   \n",
       "\n",
       "        ordercustomercity  ordercustomerpincode  is_invalid  \n",
       "1317212          Balaghat              481445.0           0  \n",
       "1317213              Dhar              454446.0           0  \n",
       "1317214            Umaria              484001.0           0  \n",
       "1317215       Hoshangabad              461001.0           0  \n",
       "1317216          Balaghat              481001.0           0  \n",
       "1317217       Hoshangabad              461001.0           0  \n",
       "1317218            Bhopal              462024.0           0  \n",
       "1317219            Ujjain              456771.0           0  \n",
       "1317220            Bhopal              462041.0           0  \n",
       "1317221            Ujjain              456440.0           0  \n",
       "1317222            Bhopal              462001.0           0  \n",
       "1317223            Mandla              481661.0           0  \n",
       "1317224             Katni              483501.0           0  \n",
       "1317225           Neemuch              458110.0           0  \n",
       "1317226            Bhopal              462003.0           0  \n",
       "1317227              Rewa              486001.0           0  \n",
       "1317228             Sagar              470001.0           0  \n",
       "1317229             Sagar              470001.0           0  \n",
       "1317230             Sagar              470001.0           0  \n",
       "1317231       Hoshangabad              461111.0           0  "
      ]
     },
     "execution_count": 6,
     "metadata": {},
     "output_type": "execute_result"
    }
   ],
   "source": [
    "train.tail(20)"
   ]
  },
  {
   "cell_type": "markdown",
   "metadata": {},
   "source": [
    "### Data seem to be arranged in a format where the invalid address are at the first and the valid address are at the last. Data doesn't seem to be sampled at random."
   ]
  },
  {
   "cell_type": "markdown",
   "metadata": {},
   "source": [
    "# Investigating a couple of valid adderess"
   ]
  },
  {
   "cell_type": "code",
   "execution_count": 7,
   "metadata": {},
   "outputs": [
    {
     "data": {
      "text/plain": [
       "array(['Kapil Agarwal Basia Mohalla Nageshwar Mandir K Piche Sagar  MP ',\n",
       "       'Sindhi coloney Gali No 1 Front Of Muthot Finance, Sindhi Coloney Gali No 1 Itarsii'],\n",
       "      dtype=object)"
      ]
     },
     "execution_count": 7,
     "metadata": {},
     "output_type": "execute_result"
    }
   ],
   "source": [
    "train[-2:].ordercustomeraddress.values"
   ]
  },
  {
   "cell_type": "markdown",
   "metadata": {},
   "source": [
    "# Feature engineering and Augmentation"
   ]
  },
  {
   "cell_type": "markdown",
   "metadata": {},
   "source": [
    "### Concatenated the customer address and the customer city in order to capture complete information. It is assumed that in a vector space, valid address along with valid city will cluster together and those address which are invalid will be far away from cluster and hence a pattern might arise which might help the algorithm to generalize better. Here 'full_address' is an augmented feature"
   ]
  },
  {
   "cell_type": "code",
   "execution_count": 8,
   "metadata": {},
   "outputs": [],
   "source": [
    "train['full_address'] = train.loc[train.is_invalid == 1,'ordercustomeraddress'] +' '+  train.loc[train.is_invalid == 1,'ordercustomercity']"
   ]
  },
  {
   "cell_type": "code",
   "execution_count": 9,
   "metadata": {},
   "outputs": [],
   "source": [
    "test['full_address'] = test.loc[test.is_invalid == 1,'ordercustomeraddress'] +' '+  test.loc[test.is_invalid == 1,'ordercustomercity']"
   ]
  },
  {
   "cell_type": "code",
   "execution_count": 10,
   "metadata": {},
   "outputs": [],
   "source": [
    "train.full_address.fillna(train.ordercustomeraddress, inplace = True)"
   ]
  },
  {
   "cell_type": "code",
   "execution_count": 11,
   "metadata": {},
   "outputs": [],
   "source": [
    "test.full_address.fillna(test.ordercustomeraddress, inplace = True)"
   ]
  },
  {
   "cell_type": "markdown",
   "metadata": {},
   "source": [
    "## Text cleaning and preprocessing"
   ]
  },
  {
   "cell_type": "code",
   "execution_count": 12,
   "metadata": {},
   "outputs": [],
   "source": [
    "def text_process(text):\n",
    "    text = text.lower()\n",
    "    text = re.sub(r'[^\\w\\s]','',text)\n",
    "    text = re.sub(r'_','',text)\n",
    "    text = re.sub(r'\\d','number ',text)\n",
    "    text = re.sub(r'none','',text)\n",
    "    text = text.strip()\n",
    "    return text"
   ]
  },
  {
   "cell_type": "markdown",
   "metadata": {},
   "source": [
    "# Now using the newly created feature, 'full_address', we can clean the address and strip of any punctuations and also replace any numeric values with the word 'number' as a number in the address doesn't contribute much during learning phase. Also duplicate rows were removed as a part of cleaning procedure."
   ]
  },
  {
   "cell_type": "code",
   "execution_count": 13,
   "metadata": {},
   "outputs": [],
   "source": [
    "train['processed_ordercustomeraddress'] = train.apply(lambda x: text_process(x['full_address']), axis = 1)"
   ]
  },
  {
   "cell_type": "code",
   "execution_count": 14,
   "metadata": {},
   "outputs": [],
   "source": [
    "train = train[~train.processed_ordercustomeraddress.duplicated()]"
   ]
  },
  {
   "cell_type": "code",
   "execution_count": 15,
   "metadata": {},
   "outputs": [],
   "source": [
    "test['processed_ordercustomeraddress'] = test.apply(lambda x: text_process(x['full_address']), axis = 1)"
   ]
  },
  {
   "cell_type": "code",
   "execution_count": 16,
   "metadata": {},
   "outputs": [],
   "source": [
    "test = test[~test.processed_ordercustomeraddress.duplicated()]"
   ]
  },
  {
   "cell_type": "markdown",
   "metadata": {},
   "source": [
    "# Another augmented feature, 'processed_ordercustomeraddress_len' which will capture the number of words / token for a given address. As per the below visulization, there is a signifant difference in distrubution of the frequency of tokens for both valid and invalid address which is established in line no. 63 "
   ]
  },
  {
   "cell_type": "code",
   "execution_count": 17,
   "metadata": {},
   "outputs": [],
   "source": [
    "def feature_maker(text):\n",
    "    tok = []\n",
    "    tokens = word_tokenize(text)\n",
    "    l = len(tokens)\n",
    "    return l"
   ]
  },
  {
   "cell_type": "code",
   "execution_count": 18,
   "metadata": {},
   "outputs": [],
   "source": [
    "train['processed_ordercustomeraddress_len'] = train.apply(lambda x: feature_maker(x['processed_ordercustomeraddress']), axis= 1)"
   ]
  },
  {
   "cell_type": "code",
   "execution_count": 19,
   "metadata": {},
   "outputs": [],
   "source": [
    "test['processed_ordercustomeraddress_len'] = test.apply(lambda x: feature_maker(x['processed_ordercustomeraddress']), axis= 1)"
   ]
  },
  {
   "cell_type": "code",
   "execution_count": 20,
   "metadata": {},
   "outputs": [
    {
     "data": {
      "text/html": [
       "<div>\n",
       "<style scoped>\n",
       "    .dataframe tbody tr th:only-of-type {\n",
       "        vertical-align: middle;\n",
       "    }\n",
       "\n",
       "    .dataframe tbody tr th {\n",
       "        vertical-align: top;\n",
       "    }\n",
       "\n",
       "    .dataframe thead th {\n",
       "        text-align: right;\n",
       "    }\n",
       "</style>\n",
       "<table border=\"1\" class=\"dataframe\">\n",
       "  <thead>\n",
       "    <tr style=\"text-align: right;\">\n",
       "      <th></th>\n",
       "      <th>orderid</th>\n",
       "      <th>ordercustomeraddress</th>\n",
       "      <th>ordercustomercity</th>\n",
       "      <th>ordercustomerpincode</th>\n",
       "      <th>is_invalid</th>\n",
       "      <th>full_address</th>\n",
       "      <th>processed_ordercustomeraddress</th>\n",
       "      <th>processed_ordercustomeraddress_len</th>\n",
       "    </tr>\n",
       "  </thead>\n",
       "  <tbody>\n",
       "    <tr>\n",
       "      <th>1</th>\n",
       "      <td>6977371.0</td>\n",
       "      <td>Flor Mil Palasgaw</td>\n",
       "      <td>Chandrapur</td>\n",
       "      <td>441222.0</td>\n",
       "      <td>1</td>\n",
       "      <td>Flor Mil Palasgaw Chandrapur</td>\n",
       "      <td>flor mil palasgaw chandrapur</td>\n",
       "      <td>4</td>\n",
       "    </tr>\n",
       "    <tr>\n",
       "      <th>2</th>\n",
       "      <td>6977101.0</td>\n",
       "      <td>43, Gkw Layouts</td>\n",
       "      <td>Bangalore</td>\n",
       "      <td>560010.0</td>\n",
       "      <td>1</td>\n",
       "      <td>43, Gkw Layouts Bangalore</td>\n",
       "      <td>number number  gkw layouts bangalore</td>\n",
       "      <td>5</td>\n",
       "    </tr>\n",
       "    <tr>\n",
       "      <th>3</th>\n",
       "      <td>6977464.0</td>\n",
       "      <td>4_51_1</td>\n",
       "      <td>East Godavari</td>\n",
       "      <td>533239.0</td>\n",
       "      <td>1</td>\n",
       "      <td>4_51_1 East Godavari</td>\n",
       "      <td>number number number number  east godavari</td>\n",
       "      <td>6</td>\n",
       "    </tr>\n",
       "    <tr>\n",
       "      <th>4</th>\n",
       "      <td>6977628.0</td>\n",
       "      <td>None, Khatla</td>\n",
       "      <td>Aizawl</td>\n",
       "      <td>796001.0</td>\n",
       "      <td>1</td>\n",
       "      <td>None, Khatla Aizawl</td>\n",
       "      <td>khatla aizawl</td>\n",
       "      <td>2</td>\n",
       "    </tr>\n",
       "    <tr>\n",
       "      <th>5</th>\n",
       "      <td>6977784.0</td>\n",
       "      <td>None, Kulikawn</td>\n",
       "      <td>Aizawl</td>\n",
       "      <td>796001.0</td>\n",
       "      <td>1</td>\n",
       "      <td>None, Kulikawn Aizawl</td>\n",
       "      <td>kulikawn aizawl</td>\n",
       "      <td>2</td>\n",
       "    </tr>\n",
       "  </tbody>\n",
       "</table>\n",
       "</div>"
      ],
      "text/plain": [
       "     orderid ordercustomeraddress ordercustomercity  ordercustomerpincode  \\\n",
       "1  6977371.0    Flor Mil Palasgaw        Chandrapur              441222.0   \n",
       "2  6977101.0      43, Gkw Layouts         Bangalore              560010.0   \n",
       "3  6977464.0               4_51_1     East Godavari              533239.0   \n",
       "4  6977628.0         None, Khatla            Aizawl              796001.0   \n",
       "5  6977784.0       None, Kulikawn            Aizawl              796001.0   \n",
       "\n",
       "   is_invalid                  full_address  \\\n",
       "1           1  Flor Mil Palasgaw Chandrapur   \n",
       "2           1     43, Gkw Layouts Bangalore   \n",
       "3           1          4_51_1 East Godavari   \n",
       "4           1           None, Khatla Aizawl   \n",
       "5           1         None, Kulikawn Aizawl   \n",
       "\n",
       "               processed_ordercustomeraddress  \\\n",
       "1                flor mil palasgaw chandrapur   \n",
       "2        number number  gkw layouts bangalore   \n",
       "3  number number number number  east godavari   \n",
       "4                               khatla aizawl   \n",
       "5                             kulikawn aizawl   \n",
       "\n",
       "   processed_ordercustomeraddress_len  \n",
       "1                                   4  \n",
       "2                                   5  \n",
       "3                                   6  \n",
       "4                                   2  \n",
       "5                                   2  "
      ]
     },
     "execution_count": 20,
     "metadata": {},
     "output_type": "execute_result"
    }
   ],
   "source": [
    "train.head()"
   ]
  },
  {
   "cell_type": "code",
   "execution_count": 21,
   "metadata": {},
   "outputs": [
    {
     "data": {
      "text/html": [
       "<div>\n",
       "<style scoped>\n",
       "    .dataframe tbody tr th:only-of-type {\n",
       "        vertical-align: middle;\n",
       "    }\n",
       "\n",
       "    .dataframe tbody tr th {\n",
       "        vertical-align: top;\n",
       "    }\n",
       "\n",
       "    .dataframe thead th {\n",
       "        text-align: right;\n",
       "    }\n",
       "</style>\n",
       "<table border=\"1\" class=\"dataframe\">\n",
       "  <thead>\n",
       "    <tr style=\"text-align: right;\">\n",
       "      <th></th>\n",
       "      <th>orderid</th>\n",
       "      <th>ordercustomeraddress</th>\n",
       "      <th>ordercustomercity</th>\n",
       "      <th>ordercustomerpincode</th>\n",
       "      <th>is_invalid</th>\n",
       "      <th>full_address</th>\n",
       "      <th>processed_ordercustomeraddress</th>\n",
       "      <th>processed_ordercustomeraddress_len</th>\n",
       "    </tr>\n",
       "  </thead>\n",
       "  <tbody>\n",
       "    <tr>\n",
       "      <th>1317215</th>\n",
       "      <td>8409232.0</td>\n",
       "      <td>naga mohalla,jumerati colony hoshangabad m.p, ...</td>\n",
       "      <td>Hoshangabad</td>\n",
       "      <td>461001.0</td>\n",
       "      <td>0</td>\n",
       "      <td>naga mohalla,jumerati colony hoshangabad m.p, ...</td>\n",
       "      <td>naga mohallajumerati colony hoshangabad mp nag...</td>\n",
       "      <td>13</td>\n",
       "    </tr>\n",
       "    <tr>\n",
       "      <th>1317216</th>\n",
       "      <td>8390016.0</td>\n",
       "      <td>146, Balaghat Shadi Hall K Pichhe, Mp</td>\n",
       "      <td>Balaghat</td>\n",
       "      <td>481001.0</td>\n",
       "      <td>0</td>\n",
       "      <td>146, Balaghat Shadi Hall K Pichhe, Mp</td>\n",
       "      <td>number number number  balaghat shadi hall k pi...</td>\n",
       "      <td>9</td>\n",
       "    </tr>\n",
       "    <tr>\n",
       "      <th>1317217</th>\n",
       "      <td>8421662.0</td>\n",
       "      <td>Word No 26 Jumerati Kali mandir k piche shivna...</td>\n",
       "      <td>Hoshangabad</td>\n",
       "      <td>461001.0</td>\n",
       "      <td>0</td>\n",
       "      <td>Word No 26 Jumerati Kali mandir k piche shivna...</td>\n",
       "      <td>word no number number  jumerati kali mandir k ...</td>\n",
       "      <td>25</td>\n",
       "    </tr>\n",
       "    <tr>\n",
       "      <th>1317218</th>\n",
       "      <td>8394161.0</td>\n",
       "      <td>271/2a Saket Nagar Aims Ke Samne Urmila Tower,...</td>\n",
       "      <td>Bhopal</td>\n",
       "      <td>462024.0</td>\n",
       "      <td>0</td>\n",
       "      <td>271/2a Saket Nagar Aims Ke Samne Urmila Tower,...</td>\n",
       "      <td>number number number number a saket nagar aims...</td>\n",
       "      <td>15</td>\n",
       "    </tr>\n",
       "    <tr>\n",
       "      <th>1317219</th>\n",
       "      <td>8408449.0</td>\n",
       "      <td>Front Of Dr. Shrivastav, Shanti Niketan Road,B...</td>\n",
       "      <td>Ujjain</td>\n",
       "      <td>456771.0</td>\n",
       "      <td>0</td>\n",
       "      <td>Front Of Dr. Shrivastav, Shanti Niketan Road,B...</td>\n",
       "      <td>front of dr shrivastav shanti niketan roadbarn...</td>\n",
       "      <td>7</td>\n",
       "    </tr>\n",
       "  </tbody>\n",
       "</table>\n",
       "</div>"
      ],
      "text/plain": [
       "           orderid                               ordercustomeraddress  \\\n",
       "1317215  8409232.0  naga mohalla,jumerati colony hoshangabad m.p, ...   \n",
       "1317216  8390016.0              146, Balaghat Shadi Hall K Pichhe, Mp   \n",
       "1317217  8421662.0  Word No 26 Jumerati Kali mandir k piche shivna...   \n",
       "1317218  8394161.0  271/2a Saket Nagar Aims Ke Samne Urmila Tower,...   \n",
       "1317219  8408449.0  Front Of Dr. Shrivastav, Shanti Niketan Road,B...   \n",
       "\n",
       "        ordercustomercity  ordercustomerpincode  is_invalid  \\\n",
       "1317215       Hoshangabad              461001.0           0   \n",
       "1317216          Balaghat              481001.0           0   \n",
       "1317217       Hoshangabad              461001.0           0   \n",
       "1317218            Bhopal              462024.0           0   \n",
       "1317219            Ujjain              456771.0           0   \n",
       "\n",
       "                                              full_address  \\\n",
       "1317215  naga mohalla,jumerati colony hoshangabad m.p, ...   \n",
       "1317216              146, Balaghat Shadi Hall K Pichhe, Mp   \n",
       "1317217  Word No 26 Jumerati Kali mandir k piche shivna...   \n",
       "1317218  271/2a Saket Nagar Aims Ke Samne Urmila Tower,...   \n",
       "1317219  Front Of Dr. Shrivastav, Shanti Niketan Road,B...   \n",
       "\n",
       "                            processed_ordercustomeraddress  \\\n",
       "1317215  naga mohallajumerati colony hoshangabad mp nag...   \n",
       "1317216  number number number  balaghat shadi hall k pi...   \n",
       "1317217  word no number number  jumerati kali mandir k ...   \n",
       "1317218  number number number number a saket nagar aims...   \n",
       "1317219  front of dr shrivastav shanti niketan roadbarn...   \n",
       "\n",
       "         processed_ordercustomeraddress_len  \n",
       "1317215                                  13  \n",
       "1317216                                   9  \n",
       "1317217                                  25  \n",
       "1317218                                  15  \n",
       "1317219                                   7  "
      ]
     },
     "execution_count": 21,
     "metadata": {},
     "output_type": "execute_result"
    }
   ],
   "source": [
    "train.tail()"
   ]
  },
  {
   "cell_type": "code",
   "execution_count": 22,
   "metadata": {},
   "outputs": [
    {
     "data": {
      "text/plain": [
       "count    56000.000000\n",
       "mean        11.189696\n",
       "std          7.063588\n",
       "min          1.000000\n",
       "25%          7.000000\n",
       "50%         10.000000\n",
       "75%         14.000000\n",
       "max        119.000000\n",
       "Name: processed_ordercustomeraddress_len, dtype: float64"
      ]
     },
     "execution_count": 22,
     "metadata": {},
     "output_type": "execute_result"
    }
   ],
   "source": [
    "train.loc[train.is_invalid == 1, 'processed_ordercustomeraddress_len'].describe()"
   ]
  },
  {
   "cell_type": "code",
   "execution_count": 23,
   "metadata": {},
   "outputs": [
    {
     "data": {
      "text/plain": [
       "0    8\n",
       "dtype: int64"
      ]
     },
     "execution_count": 23,
     "metadata": {},
     "output_type": "execute_result"
    }
   ],
   "source": [
    "train.loc[train.is_invalid == 1, 'processed_ordercustomeraddress_len'].mode()"
   ]
  },
  {
   "cell_type": "code",
   "execution_count": 24,
   "metadata": {},
   "outputs": [
    {
     "data": {
      "application/javascript": [
       "\n",
       "        if (window._pyforest_update_imports_cell) { window._pyforest_update_imports_cell('import pandas as pd\\nimport seaborn as sns'); }\n",
       "    "
      ],
      "text/plain": [
       "<IPython.core.display.Javascript object>"
      ]
     },
     "metadata": {},
     "output_type": "display_data"
    },
    {
     "data": {
      "application/javascript": [
       "\n",
       "        if (window._pyforest_update_imports_cell) { window._pyforest_update_imports_cell('import matplotlib.pyplot as plt\\nimport pandas as pd\\nimport seaborn as sns'); }\n",
       "    "
      ],
      "text/plain": [
       "<IPython.core.display.Javascript object>"
      ]
     },
     "metadata": {},
     "output_type": "display_data"
    },
    {
     "data": {
      "text/plain": [
       "([<matplotlib.axis.XTick at 0x16f6b79a6c8>,\n",
       "  <matplotlib.axis.XTick at 0x16f7d33fd88>,\n",
       "  <matplotlib.axis.XTick at 0x16f7be381c8>,\n",
       "  <matplotlib.axis.XTick at 0x16f799667c8>,\n",
       "  <matplotlib.axis.XTick at 0x16f7a1e56c8>,\n",
       "  <matplotlib.axis.XTick at 0x16f7a1e90c8>,\n",
       "  <matplotlib.axis.XTick at 0x16f7a1e9788>,\n",
       "  <matplotlib.axis.XTick at 0x16f6ab912c8>,\n",
       "  <matplotlib.axis.XTick at 0x16f6ab919c8>,\n",
       "  <matplotlib.axis.XTick at 0x16f6ab95388>,\n",
       "  <matplotlib.axis.XTick at 0x16f6ab91dc8>,\n",
       "  <matplotlib.axis.XTick at 0x16f6ab957c8>],\n",
       " <a list of 12 Text xticklabel objects>)"
      ]
     },
     "execution_count": 24,
     "metadata": {},
     "output_type": "execute_result"
    },
    {
     "data": {
      "image/png": "[encoded data removed]",
      "text/plain": [
       "<Figure size 432x288 with 1 Axes>"
      ]
     },
     "metadata": {
      "needs_background": "light"
     },
     "output_type": "display_data"
    }
   ],
   "source": [
    "sns.distplot(train.loc[train.is_invalid == 1, 'processed_ordercustomeraddress_len'], kde = False)\n",
    "plt.xticks(ticks=range(0,120,10))"
   ]
  },
  {
   "cell_type": "code",
   "execution_count": 25,
   "metadata": {},
   "outputs": [
    {
     "data": {
      "application/javascript": [
       "\n",
       "        if (window._pyforest_update_imports_cell) { window._pyforest_update_imports_cell('import matplotlib.pyplot as plt\\nimport pandas as pd\\nimport seaborn as sns'); }\n",
       "    "
      ],
      "text/plain": [
       "<IPython.core.display.Javascript object>"
      ]
     },
     "metadata": {},
     "output_type": "display_data"
    },
    {
     "data": {
      "text/plain": [
       "<matplotlib.axes._subplots.AxesSubplot at 0x16f6b13c748>"
      ]
     },
     "execution_count": 25,
     "metadata": {},
     "output_type": "execute_result"
    },
    {
     "data": {
      "image/png": "[encoded data removed]",
      "text/plain": [
       "<Figure size 432x288 with 1 Axes>"
      ]
     },
     "metadata": {
      "needs_background": "light"
     },
     "output_type": "display_data"
    }
   ],
   "source": [
    "sns.boxplot(train.loc[train.is_invalid == 1, 'processed_ordercustomeraddress_len'])\n"
   ]
  },
  {
   "cell_type": "code",
   "execution_count": 26,
   "metadata": {},
   "outputs": [
    {
     "data": {
      "text/plain": [
       "count    609477.000000\n",
       "mean         12.626270\n",
       "std           6.919399\n",
       "min           1.000000\n",
       "25%           8.000000\n",
       "50%          11.000000\n",
       "75%          15.000000\n",
       "max         294.000000\n",
       "Name: processed_ordercustomeraddress_len, dtype: float64"
      ]
     },
     "execution_count": 26,
     "metadata": {},
     "output_type": "execute_result"
    }
   ],
   "source": [
    "train.loc[train.is_invalid == 0, 'processed_ordercustomeraddress_len'].describe()"
   ]
  },
  {
   "cell_type": "code",
   "execution_count": 27,
   "metadata": {},
   "outputs": [
    {
     "data": {
      "text/plain": [
       "0    10\n",
       "dtype: int64"
      ]
     },
     "execution_count": 27,
     "metadata": {},
     "output_type": "execute_result"
    }
   ],
   "source": [
    "train.loc[train.is_invalid == 0, 'processed_ordercustomeraddress_len'].mode()"
   ]
  },
  {
   "cell_type": "code",
   "execution_count": 28,
   "metadata": {},
   "outputs": [
    {
     "data": {
      "application/javascript": [
       "\n",
       "        if (window._pyforest_update_imports_cell) { window._pyforest_update_imports_cell('import matplotlib.pyplot as plt\\nimport pandas as pd\\nimport seaborn as sns'); }\n",
       "    "
      ],
      "text/plain": [
       "<IPython.core.display.Javascript object>"
      ]
     },
     "metadata": {},
     "output_type": "display_data"
    },
    {
     "data": {
      "application/javascript": [
       "\n",
       "        if (window._pyforest_update_imports_cell) { window._pyforest_update_imports_cell('import matplotlib.pyplot as plt\\nimport pandas as pd\\nimport seaborn as sns'); }\n",
       "    "
      ],
      "text/plain": [
       "<IPython.core.display.Javascript object>"
      ]
     },
     "metadata": {},
     "output_type": "display_data"
    },
    {
     "data": {
      "text/plain": [
       "([<matplotlib.axis.XTick at 0x16f63d958c8>,\n",
       "  <matplotlib.axis.XTick at 0x16f63d91f08>,\n",
       "  <matplotlib.axis.XTick at 0x16f63d8a748>,\n",
       "  <matplotlib.axis.XTick at 0x16f7999dc48>,\n",
       "  <matplotlib.axis.XTick at 0x16f7b7e2208>,\n",
       "  <matplotlib.axis.XTick at 0x16f7b7e2b88>,\n",
       "  <matplotlib.axis.XTick at 0x16f7b7e54c8>,\n",
       "  <matplotlib.axis.XTick at 0x16f7b7e5c88>,\n",
       "  <matplotlib.axis.XTick at 0x16f7b7e7808>,\n",
       "  <matplotlib.axis.XTick at 0x16f7b7ea208>,\n",
       "  <matplotlib.axis.XTick at 0x16f7b7eaa48>,\n",
       "  <matplotlib.axis.XTick at 0x16f7b7e7848>,\n",
       "  <matplotlib.axis.XTick at 0x16f799a3448>,\n",
       "  <matplotlib.axis.XTick at 0x16f7b942708>,\n",
       "  <matplotlib.axis.XTick at 0x16f7b9440c8>],\n",
       " <a list of 15 Text xticklabel objects>)"
      ]
     },
     "execution_count": 28,
     "metadata": {},
     "output_type": "execute_result"
    },
    {
     "data": {
      "image/png": "[encoded data removed]",
      "text/plain": [
       "<Figure size 432x288 with 1 Axes>"
      ]
     },
     "metadata": {
      "needs_background": "light"
     },
     "output_type": "display_data"
    }
   ],
   "source": [
    "sns.distplot(train.loc[train.is_invalid == 0,'processed_ordercustomeraddress_len'], kde = False)\n",
    "plt.xticks(ticks=range(0,300,20))"
   ]
  },
  {
   "cell_type": "code",
   "execution_count": 29,
   "metadata": {},
   "outputs": [
    {
     "data": {
      "application/javascript": [
       "\n",
       "        if (window._pyforest_update_imports_cell) { window._pyforest_update_imports_cell('import matplotlib.pyplot as plt\\nimport pandas as pd\\nimport seaborn as sns'); }\n",
       "    "
      ],
      "text/plain": [
       "<IPython.core.display.Javascript object>"
      ]
     },
     "metadata": {},
     "output_type": "display_data"
    },
    {
     "data": {
      "text/plain": [
       "<matplotlib.axes._subplots.AxesSubplot at 0x16f797f57c8>"
      ]
     },
     "execution_count": 29,
     "metadata": {},
     "output_type": "execute_result"
    },
    {
     "data": {
      "image/png": "[encoded data removed]",
      "text/plain": [
       "<Figure size 432x288 with 1 Axes>"
      ]
     },
     "metadata": {
      "needs_background": "light"
     },
     "output_type": "display_data"
    }
   ],
   "source": [
    "sns.boxplot(train.loc[train.is_invalid == 0,'processed_ordercustomeraddress_len'])\n"
   ]
  },
  {
   "cell_type": "code",
   "execution_count": 63,
   "metadata": {},
   "outputs": [
    {
     "data": {
      "text/plain": [
       "F_onewayResult(statistic=2202.9002893218176, pvalue=0.0)"
      ]
     },
     "execution_count": 63,
     "metadata": {},
     "output_type": "execute_result"
    }
   ],
   "source": [
    "f_oneway(train.loc[train.is_invalid == 1,'processed_ordercustomeraddress_len'], train.loc[train.is_invalid == 0,'processed_ordercustomeraddress_len'])"
   ]
  },
  {
   "cell_type": "markdown",
   "metadata": {},
   "source": [
    "# Since p value is less than 0.5 hence there is a significant difference in mean between two groups. Hence we fail to access null hypothesis (which is there is no significant difference in mean between two groups)"
   ]
  },
  {
   "cell_type": "markdown",
   "metadata": {},
   "source": [
    "# Converting text into vectors using Counter Vectorizer and Term Freq Inverse Document Frequency Vectorizer. Here we have to horizontally stack the word embeddings with the augemented features. The below UDF will create ML ready vector"
   ]
  },
  {
   "cell_type": "markdown",
   "metadata": {},
   "source": [
    "### Setting up instances for Count Vec and Tf-IDF Vec"
   ]
  },
  {
   "cell_type": "code",
   "execution_count": 30,
   "metadata": {},
   "outputs": [],
   "source": [
    "cvec = CountVectorizer()\n",
    "tfidf = TfidfVectorizer()"
   ]
  },
  {
   "cell_type": "code",
   "execution_count": 31,
   "metadata": {},
   "outputs": [],
   "source": [
    "def freqBasedSentenceEmbedder(train, test, sentenceColName, encodedClassColName, otherFeatureColName):\n",
    "    tfidf.fit(train[sentenceColName])\n",
    "    cvec.fit(train[sentenceColName])\n",
    "    X_train_stacked_tfidf = hstack([tfidf.transform(train[sentenceColName]), csr_matrix(train[otherFeatureColName].values).transpose()])\n",
    "    X_train_stacked_cvec = hstack([cvec.transform(train[sentenceColName]), csr_matrix(train[otherFeatureColName].values).transpose()])\n",
    "    X_test_stacked_tfidf = hstack([tfidf.transform(test[sentenceColName]), csr_matrix(test[otherFeatureColName].values).transpose()])\n",
    "    X_test_stacked_cvec = hstack([cvec.transform(test[sentenceColName]), csr_matrix(test[otherFeatureColName].values).transpose()])\n",
    "    return X_train_stacked_tfidf, X_train_stacked_cvec, X_test_stacked_tfidf, X_test_stacked_cvec, train[\n",
    "        encodedClassColName], test[encodedClassColName]"
   ]
  },
  {
   "cell_type": "code",
   "execution_count": 32,
   "metadata": {},
   "outputs": [],
   "source": [
    "X_train_stacked_tfidf, X_train_stacked_cvec, X_test_stacked_tfidf, X_test_stacked_cvec, y_train, y_test = freqBasedSentenceEmbedder(train,test,'processed_ordercustomeraddress','is_invalid','processed_ordercustomeraddress_len')"
   ]
  },
  {
   "cell_type": "markdown",
   "metadata": {},
   "source": [
    "### Setting up instances for Logistic Regression and Linear SVC. Setting the class weight to balanced so that it takes care of the imbalanced dataset."
   ]
  },
  {
   "cell_type": "code",
   "execution_count": 42,
   "metadata": {},
   "outputs": [],
   "source": [
    "lr = LogisticRegression(class_weight='balanced',max_iter=1000)\n",
    "svm = LinearSVC(class_weight='balanced', max_iter=1000)"
   ]
  },
  {
   "cell_type": "markdown",
   "metadata": {},
   "source": [
    "### Training LR using Count Vec"
   ]
  },
  {
   "cell_type": "code",
   "execution_count": 43,
   "metadata": {},
   "outputs": [],
   "source": [
    "lr_cvec = lr.fit(X_train_stacked_cvec, y_train)"
   ]
  },
  {
   "cell_type": "markdown",
   "metadata": {},
   "source": [
    "### Training LR using Tf-IDF Vec"
   ]
  },
  {
   "cell_type": "code",
   "execution_count": 44,
   "metadata": {},
   "outputs": [],
   "source": [
    "lr_tfidf = lr.fit(X_train_stacked_tfidf, y_train)"
   ]
  },
  {
   "cell_type": "markdown",
   "metadata": {},
   "source": [
    "### Training Linear SVC using Count Vec"
   ]
  },
  {
   "cell_type": "code",
   "execution_count": 45,
   "metadata": {},
   "outputs": [],
   "source": [
    "svm_cvec = svm.fit(X_train_stacked_cvec, y_train)"
   ]
  },
  {
   "cell_type": "markdown",
   "metadata": {},
   "source": [
    "### Training LR using Tf-IDF Vec"
   ]
  },
  {
   "cell_type": "code",
   "execution_count": 46,
   "metadata": {},
   "outputs": [],
   "source": [
    "svm_tfidf = svm.fit(X_train_stacked_tfidf, y_train)"
   ]
  },
  {
   "cell_type": "markdown",
   "metadata": {},
   "source": [
    "# Model Evaluation"
   ]
  },
  {
   "cell_type": "markdown",
   "metadata": {},
   "source": [
    "### Classification Report for LR using CVEC"
   ]
  },
  {
   "cell_type": "code",
   "execution_count": 47,
   "metadata": {},
   "outputs": [
    {
     "name": "stdout",
     "output_type": "stream",
     "text": [
      "              precision    recall  f1-score   support\n",
      "\n",
      "           0       0.99      0.80      0.88    275280\n",
      "           1       0.15      0.76      0.25     12765\n",
      "\n",
      "    accuracy                           0.80    288045\n",
      "   macro avg       0.57      0.78      0.57    288045\n",
      "weighted avg       0.95      0.80      0.85    288045\n",
      "\n"
     ]
    }
   ],
   "source": [
    "print(metrics.classification_report(y_test, lr_cvec.predict(X_test_stacked_cvec)))"
   ]
  },
  {
   "cell_type": "markdown",
   "metadata": {},
   "source": [
    "### Classification Report for LR using Tf-IDF"
   ]
  },
  {
   "cell_type": "code",
   "execution_count": 48,
   "metadata": {},
   "outputs": [
    {
     "name": "stdout",
     "output_type": "stream",
     "text": [
      "              precision    recall  f1-score   support\n",
      "\n",
      "           0       1.00      0.71      0.83    275280\n",
      "           1       0.13      0.93      0.23     12765\n",
      "\n",
      "    accuracy                           0.72    288045\n",
      "   macro avg       0.56      0.82      0.53    288045\n",
      "weighted avg       0.96      0.72      0.80    288045\n",
      "\n"
     ]
    }
   ],
   "source": [
    "print(metrics.classification_report(y_test, lr_tfidf.predict(X_test_stacked_tfidf)))"
   ]
  },
  {
   "cell_type": "markdown",
   "metadata": {},
   "source": [
    "### Classification Report for Linear SVC using CVEC"
   ]
  },
  {
   "cell_type": "code",
   "execution_count": 49,
   "metadata": {},
   "outputs": [
    {
     "name": "stdout",
     "output_type": "stream",
     "text": [
      "              precision    recall  f1-score   support\n",
      "\n",
      "           0       0.99      0.76      0.86    275280\n",
      "           1       0.14      0.84      0.24     12765\n",
      "\n",
      "    accuracy                           0.76    288045\n",
      "   macro avg       0.56      0.80      0.55    288045\n",
      "weighted avg       0.95      0.76      0.83    288045\n",
      "\n"
     ]
    }
   ],
   "source": [
    "print(metrics.classification_report(y_test, svm_cvec.predict(X_test_stacked_cvec)))"
   ]
  },
  {
   "cell_type": "markdown",
   "metadata": {},
   "source": [
    "### Classification Report for Linear SVC using Tf-IDF"
   ]
  },
  {
   "cell_type": "code",
   "execution_count": 50,
   "metadata": {},
   "outputs": [
    {
     "name": "stdout",
     "output_type": "stream",
     "text": [
      "              precision    recall  f1-score   support\n",
      "\n",
      "           0       0.99      0.75      0.85    275280\n",
      "           1       0.14      0.88      0.24     12765\n",
      "\n",
      "    accuracy                           0.75    288045\n",
      "   macro avg       0.57      0.81      0.54    288045\n",
      "weighted avg       0.95      0.75      0.82    288045\n",
      "\n"
     ]
    }
   ],
   "source": [
    "print(metrics.classification_report(y_test, svm_tfidf.predict(X_test_stacked_tfidf)))"
   ]
  },
  {
   "cell_type": "markdown",
   "metadata": {},
   "source": [
    "# So it is observed that Linear SVC with Tf-IDF word embedding has a slightly better Recall and F1 score in expense of lower Accuracy and Precision as compared to other models. Assuming we want to minimize RTO as much as possible, we should focus on Recall as we don't want to miss out on detecing a invalid address in expense of false positives."
   ]
  },
  {
   "cell_type": "markdown",
   "metadata": {},
   "source": [
    "## We didn't choose logistic because it has a higher recall and high recall means more False Positives. In order to strike a balance, we went for Linear SVC"
   ]
  },
  {
   "cell_type": "code",
   "execution_count": 56,
   "metadata": {},
   "outputs": [],
   "source": [
    "pred = svm_tfidf.predict(X_test_stacked_tfidf)"
   ]
  },
  {
   "cell_type": "markdown",
   "metadata": {},
   "source": [
    "# Precision Score"
   ]
  },
  {
   "cell_type": "code",
   "execution_count": 57,
   "metadata": {},
   "outputs": [
    {
     "name": "stdout",
     "output_type": "stream",
     "text": [
      "0.13797896549603297\n"
     ]
    }
   ],
   "source": [
    "print(metrics.precision_score(y_test, pred))"
   ]
  },
  {
   "cell_type": "markdown",
   "metadata": {},
   "source": [
    "# Recall Score"
   ]
  },
  {
   "cell_type": "code",
   "execution_count": 58,
   "metadata": {},
   "outputs": [
    {
     "name": "stdout",
     "output_type": "stream",
     "text": [
      "0.8787309048178613\n"
     ]
    }
   ],
   "source": [
    "print(metrics.recall_score(y_test, pred))"
   ]
  },
  {
   "cell_type": "markdown",
   "metadata": {},
   "source": [
    "# Accuracy"
   ]
  },
  {
   "cell_type": "code",
   "execution_count": 59,
   "metadata": {},
   "outputs": [
    {
     "name": "stdout",
     "output_type": "stream",
     "text": [
      "0.7513374646322624\n"
     ]
    }
   ],
   "source": [
    "print(metrics.accuracy_score(y_test, pred))"
   ]
  },
  {
   "cell_type": "markdown",
   "metadata": {},
   "source": [
    "# Confusion Matrix"
   ]
  },
  {
   "cell_type": "code",
   "execution_count": 60,
   "metadata": {},
   "outputs": [
    {
     "data": {
      "application/javascript": [
       "\n",
       "        if (window._pyforest_update_imports_cell) { window._pyforest_update_imports_cell('import matplotlib.pyplot as plt\\nfrom openpyxl import load_workbook\\nimport pandas as pd\\nimport seaborn as sns'); }\n",
       "    "
      ],
      "text/plain": [
       "<IPython.core.display.Javascript object>"
      ]
     },
     "metadata": {},
     "output_type": "display_data"
    },
    {
     "data": {
      "text/html": [
       "<div>\n",
       "<style scoped>\n",
       "    .dataframe tbody tr th:only-of-type {\n",
       "        vertical-align: middle;\n",
       "    }\n",
       "\n",
       "    .dataframe tbody tr th {\n",
       "        vertical-align: top;\n",
       "    }\n",
       "\n",
       "    .dataframe thead th {\n",
       "        text-align: right;\n",
       "    }\n",
       "</style>\n",
       "<table border=\"1\" class=\"dataframe\">\n",
       "  <thead>\n",
       "    <tr style=\"text-align: right;\">\n",
       "      <th></th>\n",
       "      <th>0</th>\n",
       "      <th>1</th>\n",
       "    </tr>\n",
       "  </thead>\n",
       "  <tbody>\n",
       "    <tr>\n",
       "      <th>0</th>\n",
       "      <td>205202</td>\n",
       "      <td>70078</td>\n",
       "    </tr>\n",
       "    <tr>\n",
       "      <th>1</th>\n",
       "      <td>1548</td>\n",
       "      <td>11217</td>\n",
       "    </tr>\n",
       "  </tbody>\n",
       "</table>\n",
       "</div>"
      ],
      "text/plain": [
       "        0      1\n",
       "0  205202  70078\n",
       "1    1548  11217"
      ]
     },
     "execution_count": 60,
     "metadata": {},
     "output_type": "execute_result"
    }
   ],
   "source": [
    "cm = pd.DataFrame(metrics.confusion_matrix(y_test,pred))\n",
    "cm"
   ]
  },
  {
   "cell_type": "markdown",
   "metadata": {},
   "source": [
    "# Improvement Ideas:\n",
    "    1. Use 512/128 dim Universal Sentence Encoder\n",
    "    2. Perform Cross Validation\n",
    "    3. Tune the cut off probability threshold (have to use platt scaling for SVC)\n",
    "    4. Can also use BERT/ AlBERT/ DistilBert for word embedding.\n",
    "    5. Can also perform class balancing by either collecting more data for invalid address or data augmentation techniques\n",
    "    6. Can also perform k-fold cross validation (unable to perfrom curently due to weak hardware)\n",
    "    7. Collect more data on invalid address\n",
    "    8. Can also perform classification using DNN\n",
    "    9. Can also collect lat and long and convert them into s2 cell ids and then trying to match the provided address location with all possible address in that cell. "
   ]
  },
  {
   "cell_type": "code",
   "execution_count": null,
   "metadata": {},
   "outputs": [],
   "source": []
  }
 ],
 "metadata": {
  "kernelspec": {
   "display_name": "Python 3",
   "language": "python",
   "name": "python3"
  },
  "language_info": {
   "codemirror_mode": {
    "name": "ipython",
    "version": 3
   },
   "file_extension": ".py",
   "mimetype": "text/x-python",
   "name": "python",
   "nbconvert_exporter": "python",
   "pygments_lexer": "ipython3",
   "version": "3.7.7"
  }
 },
 "nbformat": 4,
 "nbformat_minor": 4
}
